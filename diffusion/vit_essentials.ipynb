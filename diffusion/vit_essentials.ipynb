{
 "cells": [
  {
   "cell_type": "code",
   "execution_count": 1,
   "metadata": {},
   "outputs": [
    {
     "data": {
      "text/plain": [
       "<torch._C.Generator at 0x7fac193b7c90>"
      ]
     },
     "execution_count": 1,
     "metadata": {},
     "output_type": "execute_result"
    }
   ],
   "source": [
    "import math\n",
    "import torch\n",
    "import torchvision\n",
    "from tqdm.notebook import tqdm\n",
    "import torch.nn as nn\n",
    "from torch.nn import functional as F\n",
    "from torch.utils.data import DataLoader\n",
    "from torchvision.transforms import Compose, Resize, Normalize, PILToTensor, RandomRotation,\\\n",
    "      RandomVerticalFlip, RandomHorizontalFlip, RandomErasing,RandomResizedCrop,ConvertImageDtype,CenterCrop\n",
    "from torchvision.utils import make_grid\n",
    "import matplotlib.pyplot as plt\n",
    "plt.style.use(\"dark_background\")\n",
    "torch.manual_seed(21297)\n"
   ]
  },
  {
   "cell_type": "markdown",
   "metadata": {},
   "source": [
    "%%html\n",
    "<style>\n",
    ".cell-output-ipywidget-background {\n",
    "    background-color: transparent !important;\n",
    "}\n",
    ":root {\n",
    "    --jp-widgets-color: var(--vscode-editor-foreground);\n",
    "    --jp-widgets-font-size: var(--vscode-editor-font-size);\n",
    "}  \n",
    "</style>"
   ]
  },
  {
   "cell_type": "code",
   "execution_count": 10,
   "metadata": {},
   "outputs": [],
   "source": [
    "class GeLU(nn.Module):\n",
    "\n",
    "    def __init__(self):\n",
    "        super(GeLU, self).__init__()\n",
    "    def forward(self, x):\n",
    "        return x*F.sigmoid(1.702*x)\n",
    "    \n",
    "\n",
    "class LayerNorm(nn.Module):\n",
    "\n",
    "    def __init__(self):\n",
    "        super(LayerNorm, self).__init__()\n",
    "        self.mu = nn.Parameter(torch.tensor([0.]))\n",
    "        self.sigma = nn.Parameter(torch.tensor([1.]))\n",
    "    \n",
    "    def forward(self, x:torch.Tensor, eps=1e-5):\n",
    "        b, n, d = x.shape\n",
    "        x_m = x.mean(-1, keepdim=True)\n",
    "        x_var = x.var(-1, keepdim=True)\n",
    "        x = (x - x_m)/(x_var + eps).sqrt()\n",
    "        return self.mu + self.sigma*x\n",
    "\n",
    "\n",
    "class PositionalEncoding(nn.Module):\n",
    "    def __init__(self, seq_len, dim):\n",
    "        super(PositionalEncoding, self).__init__()\n",
    "        pe = torch.zeros((seq_len, dim))\n",
    "        pos = torch.arange(0, seq_len, step=1).unsqueeze(1)\n",
    "        wavelen = torch.exp(-math.log(1e4)*(2*torch.arange(0, dim//2, 1)*dim**-1)).float()\n",
    "        pe[:, 0::2] = torch.sin(pos*wavelen)\n",
    "        pe[:, 1::2] = torch.cos(pos*wavelen)\n",
    "\n",
    "        self.register_buffer(\"pe\", pe, persistent=False)\n",
    "        self.pe = self.pe.unsqueeze(0)\n",
    "    def forward(self, x):\n",
    "        assert x.shape[2] == self.pe.shape[2]\n",
    "        return x + self.pe[:, :x.shape[1], :]\n",
    "\n",
    "     \n",
    "class MultiHeadAttention(nn.Module):\n",
    "\n",
    "    def __init__(self, num_heads, d):\n",
    "        assert d%num_heads==0\n",
    "        super(MultiHeadAttention, self).__init__()\n",
    "        \n",
    "        self.num_heads = num_heads\n",
    "        self.d = d\n",
    "        self.head_dim = d//num_heads\n",
    "\n",
    "        self.qkv = nn.Linear(d, 3*d)\n",
    "        self.proj = nn.Linear(d, d)\n",
    "        self.scale = self.head_dim**-0.5\n",
    "\n",
    "    def forward(self, x):\n",
    "        b, n, d = x.shape\n",
    "        q, k ,v = self.qkv(x).reshape(b, self.num_heads, n, -1).chunk(3, -1)\n",
    "        attn_score = F.softmax(q@k.transpose(2, 3)*self.scale, dim=-1)\n",
    "        out = attn_score@v\n",
    "        out = out.permute((0, 2, 1, 3))\n",
    "        out = out.reshape((b, n, -1))\n",
    "\n",
    "        return attn_score, out\n",
    "\n",
    "\n",
    "\n",
    "class TransformerBlock(nn.Module):\n",
    "\n",
    "    def __init__(self, num_heads, d, prenorm=True):\n",
    "        super(TransformerBlock, self).__init__()\n",
    "\n",
    "        self.prenorm = prenorm\n",
    "        self.mha = MultiHeadAttention(num_heads=num_heads, d=d)\n",
    "        self.layernorm1 = LayerNorm()\n",
    "        self.layernorm2 = LayerNorm()\n",
    "        self.linear = nn.Sequential(\n",
    "            nn.Linear(d, 2*d),\n",
    "            GeLU(),\n",
    "            nn.Dropout(),\n",
    "            nn.Linear(2*d, d),\n",
    "            nn.Dropout()\n",
    "        )\n",
    "\n",
    "    def forward(self, input_feat):\n",
    "        x = input_feat\n",
    "        if self.prenorm:\n",
    "            x_norm = self.layernorm1(x) \n",
    "            score, x_att = self.mha(x_norm)\n",
    "            x = self.layernorm2(x + x_att)\n",
    "            return score, x + self.linear(x)\n",
    "        else:\n",
    "            score, x_att = self.mha(x)\n",
    "            x_norm = self.layernorm1(x + x_att)\n",
    "            x = self.linear(x_norm)\n",
    "            return score, self.layernorm2(x_norm + x)\n",
    "\n",
    "\n",
    "\n",
    "\n",
    "class VisionTransformer(nn.Module):\n",
    "\n",
    "    def __init__(self, L, H, A, patch_size=16, seq=4, num_classes=10):\n",
    "        super(VisionTransformer, self).__init__()\n",
    "        self.L = L\n",
    "        self.H = H\n",
    "        self.A = A\n",
    "\n",
    "        self.input_layer = nn.Linear(3*patch_size**2, self.H)\n",
    "        self.transformer = nn.ModuleDict({f\"t_block_{i}\": \\\n",
    "                                          TransformerBlock(num_heads=self.A, d = self.H)\\\n",
    "                                            for i in range(self.L)})\n",
    "        self.classifier = nn.Linear(self.H, num_classes)\n",
    "        self.cls_token = nn.Parameter(torch.randn(1, 1, self.H))\n",
    "        #self.pe = nn.Parameter(torch.randn(1, seq + 1, self.H))\n",
    "        self.pe = PositionalEncoding(seq_len=seq+1, dim=H)\n",
    "        \n",
    "\n",
    "    def forward(self, x:torch.Tensor, return_scores=False):\n",
    "        b, n, d = x.shape\n",
    "        attn_dict = {}\n",
    "        x = self.input_layer(x)\n",
    "        cls_token = self.cls_token.repeat((b, 1, 1))\n",
    "        x = torch.cat([cls_token, x], dim=1)\n",
    "        x = self.pe(x)\n",
    "\n",
    "        for name, module in self.transformer.items():\n",
    "            score, x = module(x)\n",
    "            attn_dict[name] = score\n",
    "        x = x.transpose(0, 1)\n",
    "        return attn_dict, self.classifier(x[0])\n",
    "        "
   ]
  },
  {
   "cell_type": "code",
   "execution_count": 11,
   "metadata": {},
   "outputs": [],
   "source": [
    "class Patchify(object):\n",
    "    def __init__(self, patch_size):\n",
    "        self.patch_size = patch_size\n",
    "    \n",
    "    def __call__(self, batch):\n",
    "        c, h, w = batch.shape\n",
    "        unfolded = F.unfold(batch, kernel_size=self.patch_size, stride=self.patch_size)\n",
    "        return unfolded.transpose(0, 1)"
   ]
  },
  {
   "cell_type": "code",
   "execution_count": 12,
   "metadata": {},
   "outputs": [],
   "source": [
    "def get_dataloaders(\n",
    "        dataset: str,\n",
    "        transforms=\"default\",\n",
    "        train_batch_size=32,\n",
    "        val_batch_size=32,\n",
    "        num_workers=4\n",
    "        ):\n",
    "    \n",
    "\n",
    "    dataset_config ={\n",
    "        \"cifar10\": torchvision.datasets.CIFAR10,\n",
    "        \"cifar100\": torchvision.datasets.CIFAR100\n",
    "    }\n",
    "    dataset = dataset_config[dataset]\n",
    "\n",
    "    if transforms==\"default\":\n",
    "        transforms = Compose([\n",
    "            Resize(32),\n",
    "            PILToTensor(),\n",
    "            Normalize()\n",
    "        ])\n",
    "    train_data = DataLoader(\n",
    "        dataset(root=\"data\", train=True, download=True, transform=transforms[\"train\"]),\n",
    "        batch_size=train_batch_size,\n",
    "        shuffle=True,\n",
    "        num_workers=num_workers\n",
    "        )\n",
    "    val_data = DataLoader(\n",
    "        dataset(root=\"data\", train=False, download=True, transform=transforms[\"val\"]),\n",
    "        batch_size=val_batch_size,\n",
    "        shuffle=False,\n",
    "        num_workers=num_workers//2,\n",
    "        )\n",
    "    \n",
    "    return train_data, val_data\n",
    "\n",
    "\n",
    "def show_sample(batch: torch.Tensor, nrows=2,attn=None):\n",
    "    n, e = batch.shape\n",
    "    patch = int((e/3)**0.5)\n",
    "    batch = batch.reshape((n, 3, patch, patch))\n",
    "    if attn is not None:\n",
    "        grid = make_grid(batch, nrow=nrows, padding=0)\n",
    "        c, h, w = grid.shape\n",
    "        scale = torch.tensor([0.5]).repeat(c,h,w)\n",
    "        grid = grid*scale + scale \n",
    "        plt.imshow(grid.permute(1, 2, 0))\n",
    "        plt.imshow(attn,alpha=0.6, cmap=\"inferno\")\n",
    "        plt.show()"
   ]
  },
  {
   "cell_type": "code",
   "execution_count": 13,
   "metadata": {},
   "outputs": [
    {
     "name": "stdout",
     "output_type": "stream",
     "text": [
      "Files already downloaded and verified\n",
      "Files already downloaded and verified\n"
     ]
    }
   ],
   "source": [
    "transforms = {\n",
    "    \"train\":Compose([\n",
    "    PILToTensor(),\n",
    "    Resize(32, antialias=True),\n",
    "    ConvertImageDtype(torch.float),\n",
    "    Normalize((0.5, 0.5, 0.5), (0.5, 0.5, 0.5)),\n",
    "    RandomVerticalFlip(p=0.3),\n",
    "    RandomHorizontalFlip(p=0.3),\n",
    "    RandomResizedCrop(32, antialias=True),\n",
    "    RandomErasing(p=0.2),\n",
    "    Patchify(patch_size=(4, 4))\n",
    "]),\n",
    "    \"val\": Compose([\n",
    "    Resize(32, antialias=True),\n",
    "    PILToTensor(),\n",
    "    ConvertImageDtype(torch.float),\n",
    "    Normalize((0.5, 0.5, 0.5), (0.5, 0.5, 0.5)),\n",
    "    Patchify(patch_size=(4, 4))])\n",
    "\n",
    "}\n",
    "\n",
    "train_loader, val_loader = get_dataloaders(dataset=\"cifar10\", transforms=transforms, train_batch_size=32, val_batch_size=32)"
   ]
  },
  {
   "cell_type": "code",
   "execution_count": 14,
   "metadata": {},
   "outputs": [],
   "source": [
    "x, y =next(iter(val_loader))"
   ]
  },
  {
   "cell_type": "code",
   "execution_count": 15,
   "metadata": {},
   "outputs": [],
   "source": [
    "show_sample(x[29], nrows=8)"
   ]
  },
  {
   "cell_type": "code",
   "execution_count": 16,
   "metadata": {},
   "outputs": [],
   "source": [
    "class Learner:\n",
    "    def __init__(\n",
    "            self,\n",
    "            model,\n",
    "            train_data,\n",
    "            val_data,\n",
    "            criterion,\n",
    "            optimizer,\n",
    "            lr,\n",
    "            epochs=10,\n",
    "            scheduler=None,\n",
    "            device:str=\"cuda:0\",\n",
    "    ):\n",
    "        self.device = torch.device(device)\n",
    "        self.model = model.to(self.device)\n",
    "        self.train = train_data\n",
    "        self.val = val_data\n",
    "        self.optimizer = optimizer(self.model.parameters(), lr=lr)\n",
    "        self.criterion = criterion\n",
    "        self.epochs = epochs\n",
    "        self.sched = scheduler(self.optimizer, T_max = len(self.train)*self.epochs, eta_min=1e-7) if scheduler else None\n",
    "        self.history = {\"train\": {\"loss\":[], \"acc\": []}, \"val\": {\"loss\": [], \"acc\": []}}\n",
    "\n",
    "    def train_step(self, batch):\n",
    "        x, y = batch\n",
    "        x, y = x.to(self.device), y.to(self.device)\n",
    "        attn, out = self.model(x)\n",
    "        loss = self.criterion(out, y)\n",
    "        loss.backward()\n",
    "        self.optimizer.step()\n",
    "        self.optimizer.zero_grad()\n",
    "        if self.sched:\n",
    "            self.sched.step()\n",
    "        return loss.mean().item(), (out.argmax(-1)==y).sum().item()\n",
    "        \n",
    "\n",
    "    def val_step(self, batch):\n",
    "        with torch.no_grad():\n",
    "            x, y = batch\n",
    "            x, y = x.to(self.device), y.to(self.device)\n",
    "            attn, out = self.model(x)\n",
    "            loss = self.criterion(out, y)\n",
    "            return loss.mean().item(), (out.argmax(-1)==y).sum().item()\n",
    "    \n",
    "    def learn(self):\n",
    "        with tqdm(range(1, self.epochs+1), unit=\"epoch\") as epo:\n",
    "            for e in epo:\n",
    "                running_loss = 0.\n",
    "                running_acc = 0.\n",
    "\n",
    "                for mini_batch in self.train:\n",
    "                    loss, acc = self.train_step(mini_batch)\n",
    "                    running_loss+=loss\n",
    "                    running_acc+=acc\n",
    "\n",
    "                self.history[\"train\"][\"loss\"].append(running_loss/len(self.train))\n",
    "                self.history[\"train\"][\"acc\"].append(running_acc/len(self.train.dataset))\n",
    "                self.evaluate()\n",
    "                epo.set_postfix({\n",
    "                                \"train_loss\": self.history[\"train\"][\"loss\"][-1],\n",
    "                                \"train_acc\": f\"{self.history['train']['acc'][-1]*100:.2f}%\",\n",
    "                                \"val loss\": self.history[\"val\"][\"loss\"][-1],\n",
    "                                \"val acc\": f\"{self.history['val']['acc'][-1]*100:.2f}%\"\n",
    "                })\n",
    "\n",
    "\n",
    "    def evaluate(self):\n",
    "        running_loss = 0.\n",
    "        running_acc = 0.\n",
    "        \n",
    "        for mini_batch in self.val:\n",
    "            loss, acc = self.val_step(mini_batch)\n",
    "            running_loss+=loss\n",
    "            running_acc+=acc\n",
    "                \n",
    "        self.history[\"val\"][\"loss\"].append(running_loss/len(self.val))\n",
    "        self.history[\"val\"][\"acc\"].append(running_acc/len(self.val.dataset))\n",
    "            "
   ]
  },
  {
   "cell_type": "code",
   "execution_count": 17,
   "metadata": {},
   "outputs": [
    {
     "data": {
      "application/vnd.jupyter.widget-view+json": {
       "model_id": "a1f688c742ce4aaa98cc1c0f572dfcbf",
       "version_major": 2,
       "version_minor": 0
      },
      "text/plain": [
       "  0%|          | 0/50 [00:00<?, ?epoch/s]"
      ]
     },
     "metadata": {},
     "output_type": "display_data"
    }
   ],
   "source": [
    "model = VisionTransformer(L=4, H=512, A=8, patch_size=4, seq=64)\n",
    "agent =Learner(\n",
    "    model=model,\n",
    "    train_data=train_loader,\n",
    "    val_data=val_loader,\n",
    "    optimizer=torch.optim.Adam,\n",
    "    criterion=nn.CrossEntropyLoss(),\n",
    "    lr=2e-4,\n",
    "    epochs=50,\n",
    "    scheduler = torch.optim.lr_scheduler.CosineAnnealingLR\n",
    ")\n",
    "agent.learn()"
   ]
  },
  {
   "cell_type": "code",
   "execution_count": 10,
   "metadata": {},
   "outputs": [
    {
     "data": {
      "application/vnd.jupyter.widget-view+json": {
       "model_id": "b025310cb0fb4a1785645f8c359996fc",
       "version_major": 2,
       "version_minor": 0
      },
      "text/plain": [
       "  0%|          | 0/500 [00:00<?, ?epoch/s]"
      ]
     },
     "metadata": {},
     "output_type": "display_data"
    }
   ],
   "source": [
    "# model = torch.load(\"agent-b32-lr2e03-nosched-e500.pth\")\n",
    "\n",
    "# agent =Learner(\n",
    "#     model=model,\n",
    "#     train_data=train_loader,\n",
    "#     val_data=val_loader,\n",
    "#     optimizer=torch.optim.Adam,\n",
    "#     criterion=nn.CrossEntropyLoss(),\n",
    "#     lr=2e-4,\n",
    "#     epochs=500,\n",
    "#     scheduler = torch.optim.lr_scheduler.CosineAnnealingLR\n",
    "# )\n",
    "\n",
    "# agent.learn()"
   ]
  },
  {
   "cell_type": "code",
   "execution_count": 18,
   "metadata": {},
   "outputs": [
    {
     "data": {
      "image/png": "[encoded data removed]",
      "text/plain": [
       "<Figure size 640x480 with 2 Axes>"
      ]
     },
     "metadata": {},
     "output_type": "display_data"
    }
   ],
   "source": [
    "f = plt.figure()\n",
    "plt.subplot(1, 2, 1)\n",
    "plt.plot(agent.history[\"train\"][\"loss\"])\n",
    "plt.plot(agent.history[\"val\"][\"loss\"])\n",
    "\n",
    "plt.subplot(1, 2, 2)\n",
    "plt.plot(agent.history[\"train\"][\"acc\"])\n",
    "plt.plot(agent.history[\"val\"][\"acc\"])\n",
    "plt.show()"
   ]
  },
  {
   "cell_type": "code",
   "execution_count": 19,
   "metadata": {},
   "outputs": [],
   "source": [
    "i = F.fold(x[29].transpose(0,1), (32, 32),kernel_size=(4,4), stride=(4,4))\n",
    "i = torch.einsum(\"ijk->jki\",i)"
   ]
  },
  {
   "cell_type": "code",
   "execution_count": 113,
   "metadata": {},
   "outputs": [
    {
     "data": {
      "image/png": "[encoded data removed]",
      "text/plain": [
       "<Figure size 640x480 with 1 Axes>"
      ]
     },
     "metadata": {},
     "output_type": "display_data"
    }
   ],
   "source": [
    "idx=29\n",
    "o = model(x[idx].unsqueeze(0).cuda())\n",
    "cls_map = o[0][\"t_block_3\"][0, :, 0, 1:].reshape(8, -1)\n",
    "cls_map = cls_map.reshape(8, 32//4, 32//4)\n",
    "cls_map = Resize(32)(cls_map)\n",
    "show_sample(x[idx].cpu(), attn=cls_map.detach().cpu().sum(0), nrows=8)"
   ]
  },
  {
   "cell_type": "code",
   "execution_count": 45,
   "metadata": {},
   "outputs": [],
   "source": [
    "p = model.pe.pe.squeeze(0)[1:,...].detach().cpu()\n",
    "p = p@p.T"
   ]
  },
  {
   "cell_type": "code",
   "execution_count": 46,
   "metadata": {},
   "outputs": [
    {
     "data": {
      "text/plain": [
       "<matplotlib.image.AxesImage at 0x7faae05b2620>"
      ]
     },
     "execution_count": 46,
     "metadata": {},
     "output_type": "execute_result"
    },
    {
     "data": {
      "image/png": "[encoded data removed]",
      "text/plain": [
       "<Figure size 640x480 with 1 Axes>"
      ]
     },
     "metadata": {},
     "output_type": "display_data"
    }
   ],
   "source": [
    "plt.imshow(p, cmap=\"inferno\")"
   ]
  },
  {
   "cell_type": "code",
   "execution_count": null,
   "metadata": {},
   "outputs": [],
   "source": []
  }
 ],
 "metadata": {
  "kernelspec": {
   "display_name": "pytorch",
   "language": "python",
   "name": "python3"
  },
  "language_info": {
   "codemirror_mode": {
    "name": "ipython",
    "version": 3
   },
   "file_extension": ".py",
   "mimetype": "text/x-python",
   "name": "python",
   "nbconvert_exporter": "python",
   "pygments_lexer": "ipython3",
   "version": "3.10.12"
  }
 },
 "nbformat": 4,
 "nbformat_minor": 2
}
